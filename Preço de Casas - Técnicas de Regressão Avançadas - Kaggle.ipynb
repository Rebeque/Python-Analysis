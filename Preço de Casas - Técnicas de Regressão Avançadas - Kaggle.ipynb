{
 "cells": [
  {
   "cell_type": "markdown",
   "id": "5213e482",
   "metadata": {},
   "source": [
    "# Análise Exploratória e Preditiva: \n",
    "# Preço de Casas - Técnicas de Regressão Avançadas | Kaggle\n",
    "\n",
    "***"
   ]
  },
  {
   "cell_type": "markdown",
   "id": "e1517724",
   "metadata": {},
   "source": [
    "#### Análise realizada por ***Vinícius Nunes Rebeque*** em Agosto/2022 \n",
    "#### Visite meu LinkedIn: https://www.linkedin.com/in/vrebeque/ \n",
    "#### Explore meu GitHub: https://github.com/Rebeque \n",
    "***"
   ]
  },
  {
   "cell_type": "markdown",
   "id": "f419e367",
   "metadata": {},
   "source": [
    "Fonte dos dados: https://www.kaggle.com/competitions/house-prices-advanced-regression-techniques/overview\n",
    "\n",
    "[Clique aqui](#start) para descer diretamente para o início dos códigos.\n",
    "\n",
    "Ou use <a href=\"link do pdf\" title=\"LinkedIn\">esse botão </a>para ver a versão simplificada em PDF resolução mobile desse trabalho.\n",
    "\n"
   ]
  },
  {
   "cell_type": "markdown",
   "id": "dc12f47e",
   "metadata": {},
   "source": [
    "#### 1. INTRODUÇÃO:\n",
    "\n",
    "Esse dataset foi **desenvolvido por Dean De Cock** com o objetivo de **educar aprendizes** em **Análise de Dados** e **Aprendizado de Máquina**. Ele é um conjunto de **dados públicos** hospedado na Kaggle.com (plataforma de aprendizado de dados).\n",
    "\n",
    "Você tem alguma informação sobre como são determinados os valores de casas à venda? A análise desse conjunto de dados tem por **objetivo desmistificar como são determinados os preços de imóveis** durante a avaliação de um especialista e **quanto cada variável afeta o valor do bem**.\n",
    "\n",
    "Por intuição provavelmente sua resposta será relacionada com o **número de quartos, tamanho do terreno, área construída, se tem ou não garagem e atributos como esse**. Além desses atributos o conjunto de dados traz muitas outras informações que **podem OU NÃO influenciar** de maneira relevante no preço do imóvel. \n",
    "\n",
    "Meu objetivo como analista nesse caso é entender **quais as variáveis são mais relevantes** e quais delas gera **previsões mais assertivas** no preço final do bem."
   ]
  },
  {
   "cell_type": "markdown",
   "id": "3f866d18",
   "metadata": {},
   "source": [
    "#### 2. OBJETIVOS:\n",
    "- Trabalhar com engenharia de variáveis (feature engineering);\n",
    "- Praticar plotagem usando o Seaborn;\n",
    "- Aprimorar a verificação de hipóteses;\n",
    "- Utilizar técnicas de regressão avançadas como random forest e gradient boosting;"
   ]
  },
  {
   "cell_type": "markdown",
   "id": "b3fb8f33",
   "metadata": {},
   "source": [
    "#### 3. DESENVOLVIMENTO: <a id=\"start\"> </a>"
   ]
  },
  {
   "cell_type": "code",
   "execution_count": 12,
   "id": "a925bd10",
   "metadata": {},
   "outputs": [],
   "source": [
    "# Instalação da Kaggle API para extração do conjunto de dados \n",
    "\n",
    "!pip install kaggle --quiet   \n",
    "!pip install opendatasets --quiet\n",
    "\n",
    "# A flag quiet serve para evitar poluição no notebook"
   ]
  },
  {
   "cell_type": "code",
   "execution_count": 14,
   "id": "3bb93e47",
   "metadata": {},
   "outputs": [],
   "source": [
    "# Importação e alias das bibliotecas Python necessárias\n",
    "\n",
    "import pandas as pd\n",
    "import matplotlib.pyplot as plt\n",
    "import pandas, numpy as np\n",
    "import seaborn as sns"
   ]
  },
  {
   "cell_type": "code",
   "execution_count": 21,
   "id": "c8579d3c",
   "metadata": {},
   "outputs": [
    {
     "ename": "SyntaxError",
     "evalue": "invalid syntax (1711899963.py, line 3)",
     "output_type": "error",
     "traceback": [
      "\u001b[1;36m  Input \u001b[1;32mIn [21]\u001b[1;36m\u001b[0m\n\u001b[1;33m    kaggle competitions list\u001b[0m\n\u001b[1;37m           ^\u001b[0m\n\u001b[1;31mSyntaxError\u001b[0m\u001b[1;31m:\u001b[0m invalid syntax\n"
     ]
    }
   ],
   "source": [
    "# Carrega os dados por meio da Kaggle API\n",
    "\n",
    "kaggle competitions list\n"
   ]
  },
  {
   "cell_type": "code",
   "execution_count": null,
   "id": "9e139994",
   "metadata": {},
   "outputs": [],
   "source": []
  }
 ],
 "metadata": {
  "kernelspec": {
   "display_name": "Python 3 (ipykernel)",
   "language": "python",
   "name": "python3"
  },
  "language_info": {
   "codemirror_mode": {
    "name": "ipython",
    "version": 3
   },
   "file_extension": ".py",
   "mimetype": "text/x-python",
   "name": "python",
   "nbconvert_exporter": "python",
   "pygments_lexer": "ipython3",
   "version": "3.9.12"
  }
 },
 "nbformat": 4,
 "nbformat_minor": 5
}
